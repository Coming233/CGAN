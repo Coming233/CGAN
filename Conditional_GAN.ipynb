{
  "cells": [
    {
      "cell_type": "markdown",
      "metadata": {
        "id": "view-in-github",
        "colab_type": "text"
      },
      "source": [
        "<a href=\"https://colab.research.google.com/github/Coming233/CGAN/blob/main/Conditional_GAN.ipynb\" target=\"_parent\"><img src=\"https://colab.research.google.com/assets/colab-badge.svg\" alt=\"Open In Colab\"/></a>"
      ]
    },
    {
      "cell_type": "markdown",
      "metadata": {
        "id": "xo841r7Y8gCB"
      },
      "source": [
        "# Implementation of Conditional GANs\n",
        "Reference: https://arxiv.org/pdf/1411.1784.pdf"
      ]
    },
    {
      "cell_type": "code",
      "execution_count": null,
      "metadata": {
        "collapsed": true,
        "id": "ZWkJj3Be8gCD",
        "colab": {
          "base_uri": "https://localhost:8080/"
        },
        "outputId": "e14d5392-378a-4af9-a863-aec6546b3271"
      },
      "outputs": [
        {
          "output_type": "stream",
          "name": "stdout",
          "text": [
            "Tue Jan 25 03:42:36 2022       \n",
            "+-----------------------------------------------------------------------------+\n",
            "| NVIDIA-SMI 495.46       Driver Version: 460.32.03    CUDA Version: 11.2     |\n",
            "|-------------------------------+----------------------+----------------------+\n",
            "| GPU  Name        Persistence-M| Bus-Id        Disp.A | Volatile Uncorr. ECC |\n",
            "| Fan  Temp  Perf  Pwr:Usage/Cap|         Memory-Usage | GPU-Util  Compute M. |\n",
            "|                               |                      |               MIG M. |\n",
            "|===============================+======================+======================|\n",
            "|   0  Tesla T4            Off  | 00000000:00:04.0 Off |                    0 |\n",
            "| N/A   39C    P8     9W /  70W |      0MiB / 15109MiB |      0%      Default |\n",
            "|                               |                      |                  N/A |\n",
            "+-------------------------------+----------------------+----------------------+\n",
            "                                                                               \n",
            "+-----------------------------------------------------------------------------+\n",
            "| Processes:                                                                  |\n",
            "|  GPU   GI   CI        PID   Type   Process name                  GPU Memory |\n",
            "|        ID   ID                                                   Usage      |\n",
            "|=============================================================================|\n",
            "|  No running processes found                                                 |\n",
            "+-----------------------------------------------------------------------------+\n"
          ]
        }
      ],
      "source": [
        "# Run the comment below only when using Google Colab\n",
        "# !pip install torch torchvision\n",
        "! nvidia-smi"
      ]
    },
    {
      "cell_type": "code",
      "execution_count": null,
      "metadata": {
        "collapsed": true,
        "id": "aVDmUfqw8gCE"
      },
      "outputs": [],
      "source": [
        "import torch\n",
        "import torchvision\n",
        "import torch.nn as nn\n",
        "import torch.nn.functional as F"
      ]
    },
    {
      "cell_type": "markdown",
      "source": [
        ""
      ],
      "metadata": {
        "id": "5m5BZ-qyad03"
      }
    },
    {
      "cell_type": "code",
      "execution_count": null,
      "metadata": {
        "collapsed": true,
        "id": "oZtU42sc8gCE"
      },
      "outputs": [],
      "source": [
        "from torch.utils.data import DataLoader\n",
        "from torchvision import datasets\n",
        "from torchvision import transforms\n",
        "from torchvision.utils import save_image"
      ]
    },
    {
      "cell_type": "code",
      "execution_count": null,
      "metadata": {
        "collapsed": true,
        "id": "ETIPe1Rm8gCE"
      },
      "outputs": [],
      "source": [
        "import numpy as np\n",
        "import datetime\n",
        "import os, sys"
      ]
    },
    {
      "cell_type": "code",
      "execution_count": null,
      "metadata": {
        "collapsed": true,
        "id": "wTLhtyu98gCF"
      },
      "outputs": [],
      "source": [
        "from matplotlib.pyplot import imshow, imsave\n",
        "%matplotlib inline"
      ]
    },
    {
      "cell_type": "code",
      "execution_count": null,
      "metadata": {
        "collapsed": true,
        "id": "p7CWWDPk8gCL",
        "colab": {
          "base_uri": "https://localhost:8080/"
        },
        "outputId": "c8800429-c5ec-4eea-d3f6-21f0e6330c11"
      },
      "outputs": [
        {
          "output_type": "stream",
          "name": "stdout",
          "text": [
            "Mounted at /content/gdrive\n"
          ]
        }
      ],
      "source": [
        "from google.colab import drive\n",
        "drive.mount('/content/gdrive')\n"
      ]
    },
    {
      "cell_type": "code",
      "source": [
        "os.chdir(\"/content/gdrive/My Drive/Colab Notebooks/test/utils\")\n",
        "from colab_save_load import m_save_para\n",
        "save_path = \"/content/gdrive/My Drive/Colab Notebooks/test/model/test_save\""
      ],
      "metadata": {
        "id": "cyvIpglRR8qU"
      },
      "execution_count": null,
      "outputs": []
    },
    {
      "cell_type": "code",
      "execution_count": null,
      "metadata": {
        "collapsed": true,
        "id": "mKoeBv7B8gCF"
      },
      "outputs": [],
      "source": [
        "MODEL_NAME = 'ConditionalGAN'\n",
        "DEVICE = torch.device(\"cuda:0\" if torch.cuda.is_available() else \"cpu\")"
      ]
    },
    {
      "cell_type": "code",
      "execution_count": null,
      "metadata": {
        "collapsed": true,
        "id": "PIitzHFR8gCF"
      },
      "outputs": [],
      "source": [
        "def to_onehot(x, num_classes=10):\n",
        "    assert isinstance(x, int) or isinstance(x, (torch.LongTensor, torch.cuda.LongTensor))\n",
        "    if isinstance(x, int):\n",
        "        c = torch.zeros(1, num_classes).long()\n",
        "        c[0][x] = 1\n",
        "    else:\n",
        "        x = x.cpu()\n",
        "        c = torch.LongTensor(x.size(0), num_classes)\n",
        "        c.zero_()\n",
        "        c.scatter_(1, x, 1) # dim, index, src value\n",
        "    return c"
      ]
    },
    {
      "cell_type": "code",
      "execution_count": null,
      "metadata": {
        "collapsed": true,
        "id": "rdsWxKKc8gCF"
      },
      "outputs": [],
      "source": [
        "def get_sample_image(G,c_value, n_noise=100 ):\n",
        "    \"\"\"\n",
        "        save sample 100 images\n",
        "    \"\"\"\n",
        "    num = 10\n",
        "    img = np.zeros([28*num, 28*num])\n",
        "    for j in range(num):\n",
        "        c = torch.zeros([num, 10]).to(DEVICE)\n",
        "        c[:,c_value] = 1\n",
        "        z = torch.randn(num, n_noise).to(DEVICE)\n",
        "        y_hat = G(z,c).view(num, 28, 28)\n",
        "        result = y_hat.cpu().data.numpy()\n",
        "        img[j*28:(j+1)*28] = np.concatenate([x for x in result], axis=-1)\n",
        "        # print(c[:, j])\n",
        "    return img"
      ]
    },
    {
      "cell_type": "code",
      "execution_count": null,
      "metadata": {
        "collapsed": true,
        "id": "AR2P4e2S8gCG"
      },
      "outputs": [],
      "source": [
        "class Discriminator(nn.Module):\n",
        "    \"\"\"\n",
        "        Simple Discriminator w/ MLP\n",
        "    \"\"\"\n",
        "    def __init__(self, input_size=784, condition_size=10, num_classes=1):\n",
        "        super(Discriminator, self).__init__()\n",
        "        self.layer = nn.Sequential(\n",
        "            nn.Linear(input_size+condition_size, 512),\n",
        "            nn.LeakyReLU(0.2),\n",
        "            nn.Linear(512, 256),\n",
        "            nn.LeakyReLU(0.2),\n",
        "            nn.Linear(256, num_classes),\n",
        "            nn.Sigmoid(),\n",
        "        )\n",
        "    \n",
        "    def forward(self, x, c):        \n",
        "        x, c = x.view(x.size(0), -1), c.view(c.size(0), -1).float()   #\n",
        "        v = torch.cat((x, c), 1) # v: [input, label] 这两个元素的一个连接\n",
        "        y_ = self.layer(v)\n",
        "        return y_"
      ]
    },
    {
      "cell_type": "code",
      "execution_count": null,
      "metadata": {
        "collapsed": true,
        "id": "-RlEpUJS8gCG"
      },
      "outputs": [],
      "source": [
        "class Generator(nn.Module):\n",
        "    \"\"\"\n",
        "        Simple Generator w/ MLP\n",
        "    \"\"\"\n",
        "    def __init__(self, input_size=100, condition_size=10, num_classes=784):\n",
        "        super(Generator, self).__init__()\n",
        "        self.layer = nn.Sequential(\n",
        "            nn.Linear(input_size+condition_size, 128),\n",
        "            nn.LeakyReLU(0.2),\n",
        "            nn.Linear(128, 256),\n",
        "            nn.BatchNorm1d(256),\n",
        "            nn.LeakyReLU(0.2),\n",
        "            nn.Linear(256, 512),\n",
        "            nn.BatchNorm1d(512),\n",
        "            nn.LeakyReLU(0.2),\n",
        "            nn.Linear(512, 1024),\n",
        "            nn.BatchNorm1d(1024),\n",
        "            nn.LeakyReLU(0.2),\n",
        "            nn.Linear(1024, num_classes),\n",
        "            nn.Tanh()\n",
        "        )\n",
        "        \n",
        "    def forward(self, x, c):\n",
        "        x, c = x.view(x.size(0), -1), c.view(c.size(0), -1).float()\n",
        "        v = torch.cat((x, c), 1) # v: [input, label] concatenated vector\n",
        "        y_ = self.layer(v)\n",
        "        y_ = y_.view(x.size(0), 1, 28, 28)\n",
        "        return y_"
      ]
    },
    {
      "cell_type": "code",
      "execution_count": null,
      "metadata": {
        "collapsed": true,
        "id": "i62CBP908gCH"
      },
      "outputs": [],
      "source": [
        "D = Discriminator().to(DEVICE)\n",
        "G = Generator().to(DEVICE)"
      ]
    },
    {
      "cell_type": "code",
      "execution_count": null,
      "metadata": {
        "collapsed": true,
        "id": "mEVHJhrV8gCH"
      },
      "outputs": [],
      "source": [
        "transform = transforms.Compose([transforms.ToTensor(),\n",
        "                                transforms.Normalize(mean=[0.5],\n",
        "                                std=[0.5])]\n",
        ")"
      ]
    },
    {
      "cell_type": "code",
      "execution_count": null,
      "metadata": {
        "id": "gPfa1Xrs8gCI"
      },
      "outputs": [],
      "source": [
        "mnist = datasets.MNIST(root='../data/', train=True, transform=transform, download=True)"
      ]
    },
    {
      "cell_type": "code",
      "execution_count": null,
      "metadata": {
        "collapsed": true,
        "id": "XqafQYa68gCI"
      },
      "outputs": [],
      "source": [
        "batch_size = 64\n",
        "condition_size = 10"
      ]
    },
    {
      "cell_type": "code",
      "execution_count": null,
      "metadata": {
        "collapsed": true,
        "id": "eKVVx97f8gCI"
      },
      "outputs": [],
      "source": [
        "data_loader = DataLoader(dataset=mnist, batch_size=batch_size, shuffle=True, drop_last=True)"
      ]
    },
    {
      "cell_type": "code",
      "execution_count": null,
      "metadata": {
        "collapsed": true,
        "id": "MabxEkKR8gCI"
      },
      "outputs": [],
      "source": [
        "criterion = nn.BCELoss()\n",
        "D_opt = torch.optim.Adam(D.parameters(), lr=0.0002, betas=(0.5, 0.999))\n",
        "G_opt = torch.optim.Adam(G.parameters(), lr=0.0002, betas=(0.5, 0.999))"
      ]
    },
    {
      "cell_type": "code",
      "execution_count": null,
      "metadata": {
        "collapsed": true,
        "id": "WBTtAyMX8gCJ"
      },
      "outputs": [],
      "source": [
        "max_epoch = 50 # need more than 100 epochs for training generator\n",
        "step = 0\n",
        "n_critic = 1 # for training more k steps about Discriminator\n",
        "n_noise = 100"
      ]
    },
    {
      "cell_type": "code",
      "execution_count": null,
      "metadata": {
        "collapsed": true,
        "id": "LU8kvXYy8gCJ"
      },
      "outputs": [],
      "source": [
        "D_labels = torch.ones([batch_size, 1]).to(DEVICE) # Discriminator Label to real\n",
        "D_fakes = torch.zeros([batch_size, 1]).to(DEVICE) # Discriminator Label to fake"
      ]
    },
    {
      "cell_type": "code",
      "execution_count": null,
      "metadata": {
        "collapsed": true,
        "id": "jmxTxlvO8gCJ"
      },
      "outputs": [],
      "source": [
        "if not os.path.exists('samples'):\n",
        "    os.makedirs('samples')"
      ]
    },
    {
      "cell_type": "code",
      "execution_count": null,
      "metadata": {
        "scrolled": true,
        "id": "NamiMfTH8gCJ",
        "outputId": "e9d1c60e-2559-4801-86d5-f50cd2d0ac71",
        "colab": {
          "base_uri": "https://localhost:8080/"
        }
      },
      "outputs": [
        {
          "output_type": "stream",
          "name": "stdout",
          "text": [
            "Epoch: 0/50, Step: 0, D Loss: 1.3499054908752441, G Loss: 0.692469596862793\n",
            "Epoch: 0/50, Step: 500, D Loss: 1.3520007133483887, G Loss: 1.0371602773666382\n",
            "Epoch: 1/50, Step: 1000, D Loss: 1.2869651317596436, G Loss: 1.0301778316497803\n",
            "Epoch: 1/50, Step: 1500, D Loss: 1.242379903793335, G Loss: 1.362034797668457\n",
            "Epoch: 2/50, Step: 2000, D Loss: 1.2280762195587158, G Loss: 0.9839338660240173\n",
            "Epoch: 2/50, Step: 2500, D Loss: 1.2198357582092285, G Loss: 0.9180612564086914\n",
            "Epoch: 3/50, Step: 3000, D Loss: 1.161870002746582, G Loss: 0.9769788980484009\n",
            "Epoch: 3/50, Step: 3500, D Loss: 1.1761425733566284, G Loss: 0.8383902311325073\n",
            "Epoch: 4/50, Step: 4000, D Loss: 1.2016243934631348, G Loss: 1.2897902727127075\n",
            "Epoch: 4/50, Step: 4500, D Loss: 1.2249972820281982, G Loss: 1.02131187915802\n",
            "Epoch: 5/50, Step: 5000, D Loss: 1.3391165733337402, G Loss: 0.942317008972168\n",
            "Epoch: 5/50, Step: 5500, D Loss: 1.2707233428955078, G Loss: 0.6938135623931885\n",
            "Epoch: 6/50, Step: 6000, D Loss: 1.3809399604797363, G Loss: 0.6515329480171204\n",
            "Epoch: 6/50, Step: 6500, D Loss: 1.3267440795898438, G Loss: 0.873164713382721\n",
            "Epoch: 7/50, Step: 7000, D Loss: 1.318195104598999, G Loss: 1.1033827066421509\n",
            "Epoch: 8/50, Step: 7500, D Loss: 1.3161578178405762, G Loss: 1.0447399616241455\n",
            "Epoch: 8/50, Step: 8000, D Loss: 1.3126826286315918, G Loss: 0.7499016523361206\n",
            "Epoch: 9/50, Step: 8500, D Loss: 1.2714028358459473, G Loss: 0.7167478799819946\n",
            "Epoch: 9/50, Step: 9000, D Loss: 1.280259370803833, G Loss: 0.8376176357269287\n",
            "Epoch: 10/50, Step: 9500, D Loss: 1.2848801612854004, G Loss: 0.7478481531143188\n",
            "Epoch: 10/50, Step: 10000, D Loss: 1.3125300407409668, G Loss: 0.7623910307884216\n",
            "Epoch: 11/50, Step: 10500, D Loss: 1.3665387630462646, G Loss: 0.9721971750259399\n",
            "Epoch: 11/50, Step: 11000, D Loss: 1.3851333856582642, G Loss: 0.7522503137588501\n",
            "Epoch: 12/50, Step: 11500, D Loss: 1.2645225524902344, G Loss: 0.9909175038337708\n",
            "Epoch: 12/50, Step: 12000, D Loss: 1.385838270187378, G Loss: 0.9182602167129517\n",
            "Epoch: 13/50, Step: 12500, D Loss: 1.3694398403167725, G Loss: 0.6185344457626343\n",
            "Epoch: 13/50, Step: 13000, D Loss: 1.3661799430847168, G Loss: 0.8486843109130859\n",
            "Epoch: 14/50, Step: 13500, D Loss: 1.3851001262664795, G Loss: 0.9052553176879883\n",
            "Epoch: 14/50, Step: 14000, D Loss: 1.316591501235962, G Loss: 0.7497684955596924\n",
            "Epoch: 15/50, Step: 14500, D Loss: 1.3478915691375732, G Loss: 0.7945016622543335\n",
            "Epoch: 16/50, Step: 15000, D Loss: 1.2921217679977417, G Loss: 0.8385867476463318\n",
            "Epoch: 16/50, Step: 15500, D Loss: 1.2915701866149902, G Loss: 0.7347036600112915\n",
            "Epoch: 17/50, Step: 16000, D Loss: 1.3587517738342285, G Loss: 0.6809053421020508\n",
            "Epoch: 17/50, Step: 16500, D Loss: 1.3084732294082642, G Loss: 0.7317548990249634\n",
            "Epoch: 18/50, Step: 17000, D Loss: 1.326629877090454, G Loss: 0.8082736730575562\n",
            "Epoch: 18/50, Step: 17500, D Loss: 1.336714267730713, G Loss: 0.7996819019317627\n",
            "Epoch: 19/50, Step: 18000, D Loss: 1.3798494338989258, G Loss: 0.7366088628768921\n",
            "Epoch: 19/50, Step: 18500, D Loss: 1.2884371280670166, G Loss: 0.7634738087654114\n",
            "Epoch: 20/50, Step: 19000, D Loss: 1.3434710502624512, G Loss: 0.6546351909637451\n",
            "Epoch: 20/50, Step: 19500, D Loss: 1.3500422239303589, G Loss: 0.7613331079483032\n",
            "Epoch: 21/50, Step: 20000, D Loss: 1.3692034482955933, G Loss: 0.7518035173416138\n",
            "Epoch: 21/50, Step: 20500, D Loss: 1.3729102611541748, G Loss: 0.7527733445167542\n",
            "Epoch: 22/50, Step: 21000, D Loss: 1.3050520420074463, G Loss: 0.8320746421813965\n",
            "Epoch: 22/50, Step: 21500, D Loss: 1.3942753076553345, G Loss: 0.7902153134346008\n",
            "Epoch: 23/50, Step: 22000, D Loss: 1.35762619972229, G Loss: 0.743121862411499\n",
            "Epoch: 24/50, Step: 22500, D Loss: 1.3916354179382324, G Loss: 0.7532816529273987\n",
            "Epoch: 24/50, Step: 23000, D Loss: 1.3544120788574219, G Loss: 0.782891571521759\n",
            "Epoch: 25/50, Step: 23500, D Loss: 1.4176868200302124, G Loss: 0.7864367961883545\n",
            "Epoch: 25/50, Step: 24000, D Loss: 1.3741719722747803, G Loss: 0.6651034951210022\n",
            "Epoch: 26/50, Step: 24500, D Loss: 1.334745168685913, G Loss: 0.7453769445419312\n",
            "Epoch: 26/50, Step: 25000, D Loss: 1.3519161939620972, G Loss: 0.7436560392379761\n",
            "Epoch: 27/50, Step: 25500, D Loss: 1.410243034362793, G Loss: 0.8517849445343018\n",
            "Epoch: 27/50, Step: 26000, D Loss: 1.3601620197296143, G Loss: 0.8410636186599731\n",
            "Epoch: 28/50, Step: 26500, D Loss: 1.3865439891815186, G Loss: 0.7405099868774414\n",
            "Epoch: 28/50, Step: 27000, D Loss: 1.3475347757339478, G Loss: 0.7912507057189941\n",
            "Epoch: 29/50, Step: 27500, D Loss: 1.3872385025024414, G Loss: 0.909034013748169\n",
            "Epoch: 29/50, Step: 28000, D Loss: 1.38694429397583, G Loss: 0.6970298290252686\n",
            "Epoch: 30/50, Step: 28500, D Loss: 1.3551673889160156, G Loss: 0.7735768556594849\n",
            "Epoch: 30/50, Step: 29000, D Loss: 1.3613345623016357, G Loss: 0.7483621835708618\n",
            "Epoch: 31/50, Step: 29500, D Loss: 1.309456706047058, G Loss: 0.7943839430809021\n",
            "Epoch: 32/50, Step: 30000, D Loss: 1.3130687475204468, G Loss: 0.6358683109283447\n",
            "Epoch: 32/50, Step: 30500, D Loss: 1.3024897575378418, G Loss: 0.7149555683135986\n",
            "Epoch: 33/50, Step: 31000, D Loss: 1.4116275310516357, G Loss: 0.7645005583763123\n",
            "Epoch: 33/50, Step: 31500, D Loss: 1.321047306060791, G Loss: 0.8299383521080017\n",
            "Epoch: 34/50, Step: 32000, D Loss: 1.3330411911010742, G Loss: 0.7901456356048584\n",
            "Epoch: 34/50, Step: 32500, D Loss: 1.3524137735366821, G Loss: 0.7351677417755127\n",
            "Epoch: 35/50, Step: 33000, D Loss: 1.4031381607055664, G Loss: 0.7976360321044922\n",
            "Epoch: 35/50, Step: 33500, D Loss: 1.3090548515319824, G Loss: 0.7298011779785156\n",
            "Epoch: 36/50, Step: 34000, D Loss: 1.3873310089111328, G Loss: 0.7939011454582214\n",
            "Epoch: 36/50, Step: 34500, D Loss: 1.3503217697143555, G Loss: 0.8393138647079468\n",
            "Epoch: 37/50, Step: 35000, D Loss: 1.341273307800293, G Loss: 0.8863659501075745\n",
            "Epoch: 37/50, Step: 35500, D Loss: 1.3013114929199219, G Loss: 0.7613476514816284\n",
            "Epoch: 38/50, Step: 36000, D Loss: 1.312056303024292, G Loss: 0.9040752053260803\n",
            "Epoch: 38/50, Step: 36500, D Loss: 1.381516456604004, G Loss: 0.6691491603851318\n",
            "Epoch: 39/50, Step: 37000, D Loss: 1.2967877388000488, G Loss: 0.7703216671943665\n",
            "Epoch: 40/50, Step: 37500, D Loss: 1.3010139465332031, G Loss: 0.7188338041305542\n",
            "Epoch: 40/50, Step: 38000, D Loss: 1.3676047325134277, G Loss: 0.7421884536743164\n",
            "Epoch: 41/50, Step: 38500, D Loss: 1.310027837753296, G Loss: 0.7166772484779358\n",
            "Epoch: 41/50, Step: 39000, D Loss: 1.3707809448242188, G Loss: 0.8688275814056396\n",
            "Epoch: 42/50, Step: 39500, D Loss: 1.3080670833587646, G Loss: 0.6982086300849915\n",
            "Epoch: 42/50, Step: 40000, D Loss: 1.420204997062683, G Loss: 0.7639608979225159\n",
            "Epoch: 43/50, Step: 40500, D Loss: 1.324263572692871, G Loss: 0.8103787899017334\n",
            "Epoch: 43/50, Step: 41000, D Loss: 1.4135713577270508, G Loss: 0.7629914283752441\n",
            "Epoch: 44/50, Step: 41500, D Loss: 1.3552696704864502, G Loss: 0.8828723430633545\n",
            "Epoch: 44/50, Step: 42000, D Loss: 1.358546495437622, G Loss: 0.8660454154014587\n",
            "Epoch: 45/50, Step: 42500, D Loss: 1.2634726762771606, G Loss: 0.7794592380523682\n",
            "Epoch: 45/50, Step: 43000, D Loss: 1.319614291191101, G Loss: 0.7957931756973267\n",
            "Epoch: 46/50, Step: 43500, D Loss: 1.3606970310211182, G Loss: 0.7739564180374146\n",
            "Epoch: 46/50, Step: 44000, D Loss: 1.3598670959472656, G Loss: 0.7304530143737793\n",
            "Epoch: 47/50, Step: 44500, D Loss: 1.2393014430999756, G Loss: 0.7578917741775513\n",
            "Epoch: 48/50, Step: 45000, D Loss: 1.333051323890686, G Loss: 0.7547860145568848\n",
            "Epoch: 48/50, Step: 45500, D Loss: 1.2987711429595947, G Loss: 0.7225391864776611\n",
            "Epoch: 49/50, Step: 46000, D Loss: 1.3604642152786255, G Loss: 0.9579110145568848\n",
            "Epoch: 49/50, Step: 46500, D Loss: 1.3916081190109253, G Loss: 0.8090787529945374\n"
          ]
        }
      ],
      "source": [
        "for epoch in range(max_epoch):\n",
        "    for idx, (images, labels) in enumerate(data_loader):\n",
        "        # Training Discriminator\n",
        "        x = images.to(DEVICE)\n",
        "        y = labels.view(batch_size, 1)  # 将y的标签作为控制条件。\n",
        "        y = to_onehot(y).to(DEVICE)     # 进行编码\n",
        "        x_outputs = D(x, y)             # y就是定义函数里面的控制条件c\n",
        "        D_x_loss = criterion(x_outputs, D_labels) #先喂真实数据给判别器\n",
        "\n",
        "        z = torch.randn(batch_size, n_noise).to(DEVICE)   # 然后再喂假数据给判别器\n",
        "        z_outputs = D(G(z, y), y)\n",
        "        D_z_loss = criterion(z_outputs, D_fakes)\n",
        "        D_loss = D_x_loss + D_z_loss  # 所以总共的loss才是判别器的loss        \n",
        "        \n",
        "        D.zero_grad() # 梯度下降\n",
        "        D_loss.backward()\n",
        "        D_opt.step()\n",
        "        \n",
        "\n",
        "        #判别器每训练n_critic就训练一次生成器。\n",
        "\n",
        "        if step % n_critic == 0:\n",
        "            # Training Generator\n",
        "            z = torch.randn(batch_size, n_noise).to(DEVICE)\n",
        "            z_outputs = D(G(z, y), y)\n",
        "            G_loss = criterion(z_outputs, D_labels)  #生成器只需要知道自己的产生的结果能否混淆判别器，即可算loss\n",
        "\n",
        "            G.zero_grad()\n",
        "            G_loss.backward()\n",
        "            G_opt.step()\n",
        "        \n",
        "        if step % 500 == 0:\n",
        "            print('Epoch: {}/{}, Step: {}, D Loss: {}, G Loss: {}'.format(epoch, max_epoch, step, D_loss.item(), G_loss.item()))\n",
        "        \n",
        "        #if step % 1000 == 0:\n",
        "           # G.eval()\n",
        "            #img = get_sample_image(G, n_noise)\n",
        "            #imsave('samples/{}_step{}.jpg'.format(MODEL_NAME, str(step).zfill(3)), img, cmap='gray')\n",
        "            #G.train()\n",
        "        step += 1"
      ]
    },
    {
      "cell_type": "markdown",
      "metadata": {
        "id": "TMI75v2t8gCK"
      },
      "source": [
        "## Sample"
      ]
    },
    {
      "cell_type": "code",
      "execution_count": null,
      "metadata": {
        "id": "E10iI2Zq8gCL",
        "outputId": "0aea8723-bcd1-423c-93d6-7d2d1452e8b5",
        "colab": {
          "base_uri": "https://localhost:8080/"
        }
      },
      "outputs": [
        {
          "output_type": "execute_result",
          "data": {
            "text/plain": [
              "<matplotlib.image.AxesImage at 0x7f8996273a50>"
            ]
          },
          "metadata": {},
          "execution_count": 25
        },
        {
          "output_type": "display_data",
          "data": {
            "image/png": "[encoded data removed]",
            "text/plain": [
              "<Figure size 432x288 with 1 Axes>"
            ]
          },
          "metadata": {
            "needs_background": "light"
          }
        }
      ],
      "source": [
        "# 利用生成器生成图像\n",
        "G.eval()  # 生成器设置为推断（测试）模式\n",
        "imshow(get_sample_image(G,0, n_noise), cmap='gray')\n"
      ]
    },
    {
      "cell_type": "code",
      "execution_count": null,
      "metadata": {
        "collapsed": true,
        "id": "3Blg32c88gCL"
      },
      "outputs": [],
      "source": [
        "#def save_checkpoint(state, file_name='checkpoint.pth.tar'):\n",
        " #   torch.save(state, file_name)"
      ]
    },
    {
      "cell_type": "code",
      "execution_count": null,
      "metadata": {
        "collapsed": true,
        "id": "noLK4fxh8gCL"
      },
      "outputs": [],
      "source": [
        "# Saving params.\n",
        "# save_checkpoint({'epoch': epoch + 1, 'state_dict':D.sate_dict':G.state_dict(), 'optimizer' : G_opt.state_dict()}, 'G_c.pth.tar')tate_dict(), 'optimizer' : D_opt.state_dict()}, 'D_c.pth.tar')\n",
        "# save_checkpoint({'epoch': epoch + 1, 'st"
      ]
    },
    {
      "cell_type": "code",
      "source": [
        "# torch.save(D.state_dict(), './model/test_save/D_test.pkl')\n",
        "# torch.save(G.state_dict(), './model/test_save/G_test.pkl')"
      ],
      "metadata": {
        "id": "fA8Zr-fxLOkU"
      },
      "execution_count": null,
      "outputs": []
    },
    {
      "cell_type": "code",
      "source": [
        "m_save_para(D.state_dict(), save_path, 'D_t.pkl')\n",
        "m_save_para(G.state_dict(), save_path, 'G_t.pkl')"
      ],
      "metadata": {
        "id": "qsvsf5y7OIQr"
      },
      "execution_count": null,
      "outputs": []
    },
    {
      "cell_type": "code",
      "source": [
        "os.getcwd()"
      ],
      "metadata": {
        "colab": {
          "base_uri": "https://localhost:8080/"
        },
        "id": "fV-R2XGqROdQ",
        "outputId": "59ee9258-14b8-45bc-c3b2-b74cfd474a92"
      },
      "execution_count": null,
      "outputs": [
        {
          "output_type": "execute_result",
          "data": {
            "application/vnd.google.colaboratory.intrinsic+json": {
              "type": "string"
            },
            "text/plain": [
              "'/content/gdrive/My Drive/Colab Notebooks/test/model/test_save'"
            ]
          },
          "metadata": {},
          "execution_count": 30
        }
      ]
    }
  ],
  "metadata": {
    "kernelspec": {
      "display_name": "Python 3",
      "language": "python",
      "name": "python3"
    },
    "language_info": {
      "codemirror_mode": {
        "name": "ipython",
        "version": 3
      },
      "file_extension": ".py",
      "mimetype": "text/x-python",
      "name": "python",
      "nbconvert_exporter": "python",
      "pygments_lexer": "ipython3",
      "version": "3.6.3"
    },
    "colab": {
      "name": "Conditional-GAN",
      "provenance": [],
      "collapsed_sections": [],
      "include_colab_link": true
    },
    "accelerator": "GPU"
  },
  "nbformat": 4,
  "nbformat_minor": 0
}